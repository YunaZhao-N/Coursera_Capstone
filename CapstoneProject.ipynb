{
 "cells": [
  {
   "cell_type": "markdown",
   "metadata": {},
   "source": [
    "<center>\n",
    "    \n",
    "# IBM Data Science Capstone project - he Battle of Neighborhoods - Oslo"
   ]
  },
  {
   "cell_type": "markdown",
   "metadata": {},
   "source": [
    "## Table of content\n",
    "* [Background and definition of problem](#back)\n",
    "* [Data description](#data)\n",
    "* [Methodology](#method)\n",
    "* [Data processing and clustering](#cluster)\n",
    "* [Result discussion](#result)"
   ]
  },
  {
   "cell_type": "markdown",
   "metadata": {},
   "source": [
    "## Background and definition of problem  <a class=\"anchor\" id=\"back\"></a>\n",
    "\n",
    "During the last year, I have been spending part of my free time to follow IBM data science courses, aiming to learn the fundamentals of data science and to get to know various relevant tools to carry out data analysis. By the end of the course series, there is a capstone project to expore neighbourhoods in a chosen city by using learnt skills and tools. Oslo, the captial of Norway and the city I lived in for several years, was chosen as the city to explore.\n",
    "\n",
    "Oslo is one of the fastest growing cities in Europe. It has a population of 697,010 by January 2021. During 2020, more than 3,500 persons moved into Oslo. Such a trend is expected to continue in the future. For those moving into Olso, one of the many things to consider is of course where to live. An overview of the city's neighbourhoods in similarities and differences can be very helpful in such a situation. The aim of this capstone project is to use clustering in data science to cluster neighourhoods in Oslo, find their characteristics and to provide people moving to Oslo with more information to find where to live in Oslo."
   ]
  },
  {
   "cell_type": "markdown",
   "metadata": {},
   "source": [
    "## Data description <a class=\"anchor\" id=\"data\"></a>\n",
    "\n",
    "To achieve the above goal, it needs neighborhoods in Oslo, neighborhoods' data and venues in each neighborhood. \n",
    "\n",
    "The neighborhood data consists of:\n",
    "- neighborhood name\n",
    "- average housing prices\n",
    "- average income\n",
    "- number of people moving to each neighborhood\n",
    "- number of people moving out of each neighborhood\n",
    "- living tightness\n",
    "\n",
    "The coordinates of the neighborhoods can be easily found from Google Maps via its API. The data of venues includes name, addresses, type of venue, etc. Such data can be obtained from Foursquare by using the Foursquare API.\n",
    "\n",
    "These sets of data will be combined as the data base for neighborhood clustering in Olso. "
   ]
  },
  {
   "cell_type": "markdown",
   "metadata": {},
   "source": [
    "## Methodology <a class=\"anchor\" id=\"method\"></a>\n",
    "\n",
    "The project work will start with data collection, followed by data cleaning,and then priminary data analysis to find characteristics before finally going to the clustering process. \n",
    "\n",
    "### Data collection\n",
    "\n",
    "\n",
    "\n"
   ]
  },
  {
   "cell_type": "code",
   "execution_count": 7,
   "metadata": {},
   "outputs": [
    {
     "ename": "ModuleNotFoundError",
     "evalue": "No module named 'seaborn'",
     "output_type": "error",
     "traceback": [
      "\u001b[0;31m---------------------------------------------------------------------------\u001b[0m",
      "\u001b[0;31mModuleNotFoundError\u001b[0m                       Traceback (most recent call last)",
      "\u001b[0;32m<ipython-input-7-32dfe1ca5e94>\u001b[0m in \u001b[0;36m<module>\u001b[0;34m\u001b[0m\n\u001b[1;32m     17\u001b[0m \u001b[0;34m\u001b[0m\u001b[0m\n\u001b[1;32m     18\u001b[0m \u001b[0;32mfrom\u001b[0m \u001b[0mpandas\u001b[0m\u001b[0;34m.\u001b[0m\u001b[0mio\u001b[0m\u001b[0;34m.\u001b[0m\u001b[0mjson\u001b[0m \u001b[0;32mimport\u001b[0m \u001b[0mjson_normalize\u001b[0m\u001b[0;34m\u001b[0m\u001b[0;34m\u001b[0m\u001b[0m\n\u001b[0;32m---> 19\u001b[0;31m \u001b[0;32mimport\u001b[0m \u001b[0mseaborn\u001b[0m \u001b[0;32mas\u001b[0m \u001b[0msns\u001b[0m\u001b[0;34m\u001b[0m\u001b[0;34m\u001b[0m\u001b[0m\n\u001b[0m\u001b[1;32m     20\u001b[0m \u001b[0;34m\u001b[0m\u001b[0m\n\u001b[1;32m     21\u001b[0m \u001b[0;32mfrom\u001b[0m \u001b[0msklearn\u001b[0m\u001b[0;34m.\u001b[0m\u001b[0mcluster\u001b[0m \u001b[0;32mimport\u001b[0m \u001b[0mKMeans\u001b[0m\u001b[0;34m\u001b[0m\u001b[0;34m\u001b[0m\u001b[0m\n",
      "\u001b[0;31mModuleNotFoundError\u001b[0m: No module named 'seaborn'"
     ]
    }
   ],
   "source": [
    "# import libraries\n",
    "import sys\n",
    "import json\n",
    "import time\n",
    "\n",
    "import numpy as np\n",
    "import pandas as pd\n",
    "import matplotlib.pyplot as plt\n",
    "\n",
    "import folium\n",
    "import googlemaps\n",
    "import matplotlib as mpl\n",
    "\n",
    "from selenium import webdriver\n",
    "from selenium.common.exceptions import TimeoutException, StaleElementReferenceException\n",
    "import requests\n",
    "\n",
    "from pandas.io.json import json_normalize\n",
    "import seaborn as sns\n",
    "\n",
    "from sklearn.cluster import KMeans\n",
    "from sklearn.preprocessing import StandardScaler, MinMaxScaler\n",
    "from tqdm import tqdm\n",
    "from wordcloud import WordCloud"
   ]
  },
  {
   "cell_type": "code",
   "execution_count": null,
   "metadata": {},
   "outputs": [],
   "source": []
  }
 ],
 "metadata": {
  "kernelspec": {
   "display_name": "Python 3",
   "language": "python",
   "name": "python3"
  },
  "language_info": {
   "codemirror_mode": {
    "name": "ipython",
    "version": 3
   },
   "file_extension": ".py",
   "mimetype": "text/x-python",
   "name": "python",
   "nbconvert_exporter": "python",
   "pygments_lexer": "ipython3",
   "version": "3.7.6"
  }
 },
 "nbformat": 4,
 "nbformat_minor": 4
}
